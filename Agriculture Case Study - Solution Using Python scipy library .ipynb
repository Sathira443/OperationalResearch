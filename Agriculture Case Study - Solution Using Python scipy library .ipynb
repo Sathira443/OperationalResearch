{
 "cells": [
  {
   "cell_type": "code",
   "execution_count": 1,
   "id": "877b302e",
   "metadata": {},
   "outputs": [
    {
     "name": "stdout",
     "output_type": "stream",
     "text": [
      "Objective function:  -337862.0689655172\n",
      "Optimal solution:  [1603.94736842    0.          221.05263158    0.          375.\n",
      "    0.            0.          131.03448276    0.            0.\n",
      "    0.          857.14285714    0.          142.85714286    0.        ]\n"
     ]
    },
    {
     "data": {
      "text/plain": [
       "        message: Optimization terminated successfully. (HiGHS Status 7: Optimal)\n",
       "        success: True\n",
       "         status: 0\n",
       "            fun: -337862.0689655172\n",
       "              x: [ 1.604e+03  0.000e+00 ...  1.429e+02  0.000e+00]\n",
       "            nit: 7\n",
       "          lower:  residual: [ 1.604e+03  0.000e+00 ...  1.429e+02\n",
       "                              0.000e+00]\n",
       "                 marginals: [ 0.000e+00  2.842e-14 ...  0.000e+00\n",
       "                              0.000e+00]\n",
       "          upper:  residual: [       inf        inf ...        inf\n",
       "                                    inf]\n",
       "                 marginals: [ 0.000e+00  0.000e+00 ...  0.000e+00\n",
       "                              0.000e+00]\n",
       "          eqlin:  residual: []\n",
       "                 marginals: []\n",
       "        ineqlin:  residual: [ 3.961e+02  1.443e+03 ...  0.000e+00\n",
       "                              0.000e+00]\n",
       "                 marginals: [-0.000e+00 -0.000e+00 ... -1.708e+01\n",
       "                             -2.069e+01]\n",
       " mip_node_count: 0\n",
       " mip_dual_bound: 0.0\n",
       "        mip_gap: 0.0"
      ]
     },
     "execution_count": 1,
     "metadata": {},
     "output_type": "execute_result"
    }
   ],
   "source": [
    "from scipy.optimize import linprog\n",
    "\n",
    "#Define the objective function\n",
    "c = [-100,-100,-100,-100,-100,-60,-60,-60,-60,-60,-110,-110,-110,-110,-110] # minimize (-P)\n",
    "\n",
    "#Define the constraints\n",
    "cof = ([[1,0,0,0,0,1,0,0,0,0,1,0,0,0,0],[0,1,0,0,0,0,1,0,0,0,0,1,0,0,0],[0,0,1,0,0,0,0,1,0,0,0,0,1,0,0],[0,0,0,1,0,0,0,0,1,0,0,0,0,1,0],[0,0,0,0,1,0,0,0,0,1,0,0,0,0,1],[1.6,0,0,0,0,2.9,0,0,0,0,3.5,0,0,0,0],[0,1.6,0,0,0,0,2.9,0,0,0,0,3.5,0,0,0],[0,0,1.9,0,0,0,0,2.9,0,0,0,0,3.5,0,0],[0,0,0,1.6,0,0,0,0,2.9,0,0,0,0,3.5,0],[0,0,0,0,1.6,0,0,0,0,2.9,0,0,0,0,3.5],[50,50,50,50,50,0,0,0,0,0,0,0,0,0,0],[0,0,0,0,0,1.5,1.5,1.5,1.5,1.5,0,0,0,0,0],[0,0,0,0,0,0,0,0,0,0,2.2,2.2,2.2,2.2,2.2],[1.6,1.6,1.6,1.6,1.6,2.9,2.9,2.9,2.9,2.9,3.5,3.5,3.5,3.5,3.5]]) # coefficient matrix \n",
    "rhs = ([2000,2300,600,1100,500,3200,3400,800,500,600,110000,1800,2200,7400])\n",
    "\n",
    "#Define the bounds\n",
    "b = (0,float('inf')) # x is a positive real number\n",
    "\n",
    "#Solve\n",
    "res = linprog(c, A_ub=cof, b_ub=rhs, bounds=(b,b,b,b,b,b,b,b,b,b,b,b,b,b,b))\n",
    "\n",
    "#Print the results\n",
    "print(\"Objective function: \", res.fun)\n",
    "print(\"Optimal solution: \", res.x)\n",
    "res"
   ]
  },
  {
   "cell_type": "markdown",
   "id": "869e4f52",
   "metadata": {},
   "source": [
    "interpretation of the Model Output\n",
    "\n",
    "Maximum profit= Rs 337.862 million\n",
    "\n",
    "Production Plan (in acres)( since the problem has got multiple solutions, there can be few cultivation plans but maximum profit value should be same for every optimum cultivation plan)\n",
    "||Black gram|Sesame|Big onion|\n",
    "|-------|-------|-------|-------|\n",
    "|Thanthirimale|1604|0|0|\n",
    "|Pulmude|0|0|857|\n",
    "|Rambewa|221|131|0|\n",
    "|Tirappane|0|0|143|\n",
    "|Rajanganaya|375|0|0|\n"
   ]
  },
  {
   "cell_type": "code",
   "execution_count": 2,
   "id": "ff83cdf7",
   "metadata": {},
   "outputs": [
    {
     "name": "stdout",
     "output_type": "stream",
     "text": [
      "Objective function:  -350275.8620689655\n",
      "Optimal solution:  [1825.            0.            0.            0.          375.\n",
      "    0.            0.          275.86206897   62.06896552    0.\n",
      "    0.          908.57142857    0.           91.42857143    0.        ]\n"
     ]
    }
   ],
   "source": [
    "from scipy.optimize import linprog\n",
    "\n",
    "#Define the objective function\n",
    "c = [-100,-100,-100,-100,-100,-60,-60,-60,-60,-60,-110,-110,-110,-110,-110] # minimize (-P)\n",
    "\n",
    "#Define the constraints\n",
    "cof = ([[1,0,0,0,0,1,0,0,0,0,1,0,0,0,0],[0,1,0,0,0,0,1,0,0,0,0,1,0,0,0],[0,0,1,0,0,0,0,1,0,0,0,0,1,0,0],[0,0,0,1,0,0,0,0,1,0,0,0,0,1,0],[0,0,0,0,1,0,0,0,0,1,0,0,0,0,1],[1.6,0,0,0,0,2.9,0,0,0,0,3.5,0,0,0,0],[0,1.6,0,0,0,0,2.9,0,0,0,0,3.5,0,0,0],[0,0,1.9,0,0,0,0,2.9,0,0,0,0,3.5,0,0],[0,0,0,1.6,0,0,0,0,2.9,0,0,0,0,3.5,0],[0,0,0,0,1.6,0,0,0,0,2.9,0,0,0,0,3.5],[50,50,50,50,50,0,0,0,0,0,0,0,0,0,0],[0,0,0,0,0,1.5,1.5,1.5,1.5,1.5,0,0,0,0,0],[0,0,0,0,0,0,0,0,0,0,2.2,2.2,2.2,2.2,2.2],[1.6,1.6,1.6,1.6,1.6,2.9,2.9,2.9,2.9,2.9,3.5,3.5,3.5,3.5,3.5]]) # coefficient matrix \n",
    "rhs = ([2000,2300,600,1100,500,3200,3400,800,500,600,110000,1800,2200,8000])\n",
    "\n",
    "#Define the bounds\n",
    "b = (0,float('inf')) # x is a positive real number\n",
    "\n",
    "#Solve\n",
    "res = linprog(c, A_ub=cof, b_ub=rhs, bounds=(b,b,b,b,b,b,b,b,b,b,b,b,b,b,b))\n",
    "\n",
    "#Print the results\n",
    "print(\"Objective function: \", res.fun)\n",
    "print(\"Optimal solution: \", res.x)"
   ]
  },
  {
   "cell_type": "markdown",
   "id": "6f9f76cd",
   "metadata": {},
   "source": [
    "interpretation of the Model Output\n",
    "\n",
    "Maximum profit= Rs (350.276 - 06) millions = 344.276 millions\n",
    "\n",
    "Production Plan (in acres)( since the problem has got multiple solutions, there can be few cultivation plans but maximum profit value should be same for every optimum cultivation plan)\n",
    "||Black gram|Sesame|Big onion|\n",
    "|-------|-------|-------|-------|\n",
    "|Thanthirimale|1825|0|0|\n",
    "|Pulmude|0|0|908|\n",
    "|Rambewa|0|276|0|\n",
    "|Tirappane|0|62|91|\n",
    "|Rajanganaya|375|0|0|\n",
    "\n",
    "compare with the previous solution "
   ]
  },
  {
   "cell_type": "markdown",
   "id": "63a69169",
   "metadata": {},
   "source": [
    "Point to think.......... \n",
    "if additional allotment of 600 acre-feet of water for an additional fee of Rs 15,000,000 is obtained, do you recomend "
   ]
  }
 ],
 "metadata": {
  "kernelspec": {
   "display_name": "Python 3 (ipykernel)",
   "language": "python",
   "name": "python3"
  },
  "language_info": {
   "codemirror_mode": {
    "name": "ipython",
    "version": 3
   },
   "file_extension": ".py",
   "mimetype": "text/x-python",
   "name": "python",
   "nbconvert_exporter": "python",
   "pygments_lexer": "ipython3",
   "version": "3.9.19"
  }
 },
 "nbformat": 4,
 "nbformat_minor": 5
}
